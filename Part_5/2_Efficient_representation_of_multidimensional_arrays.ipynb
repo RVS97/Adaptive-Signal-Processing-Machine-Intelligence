{
 "cells": [
  {
   "cell_type": "code",
   "execution_count": 1,
   "metadata": {},
   "outputs": [],
   "source": [
    "%load_ext autoreload\n",
    "%autoreload 2\n",
    "%matplotlib inline"
   ]
  },
  {
   "cell_type": "code",
   "execution_count": 2,
   "metadata": {},
   "outputs": [],
   "source": [
    "import numpy as np\n",
    "import matplotlib.pyplot as plt\n",
    "from hottbox.core import Tensor, TensorCPD, TensorTKD"
   ]
  },
  {
   "cell_type": "markdown",
   "metadata": {
    "toc-hr-collapsed": false
   },
   "source": [
    "[Return to Table of Contents](./0_Table_of_contents.ipynb)"
   ]
  },
  {
   "cell_type": "markdown",
   "metadata": {},
   "source": [
    "# Efficient representation of multidimensional arrays\n",
    "\n",
    "A tensor of order $N$ is said to be of **rank-1** if it can be represented as an outer product of $N$ vectors. \n",
    "\n",
    "The figure below illustrates an example of a rank-1 tensor $\\mathbf{\\underline{X}}$ and provides intuition on how to compute the operation of outer product:\n",
    "\n",
    "<img src=\"./imgs/outerproduct.png\" alt=\"Drawing\" style=\"width: 500px;\"/>\n"
   ]
  },
  {
   "cell_type": "markdown",
   "metadata": {
    "toc-hr-collapsed": false
   },
   "source": [
    "# Kruskal representation\n",
    "\n",
    "For a third order tensor or rank $R$ the Kruskal representation can be expressed as follows:\n",
    "\n",
    "$$\n",
    "\\mathbf{\\underline{X}} = \\sum_{r=1}^R \\mathbf{\\underline{X}}_r = \\sum_{r=1}^R \\lambda_{r} \\cdot \\mathbf{a}_r \\circ \\mathbf{b}_r \\circ \\mathbf{c}_r\n",
    "$$\n",
    "\n",
    "The vectors $\\mathbf{a}_r, \\mathbf{b}_r$ and $\\mathbf{c}_r$ are oftentime combined into the corresponding **factor matrices**:\n",
    "\n",
    "$$\n",
    "\\mathbf{A} = \\Big[ \\mathbf{a}_1 \\cdots \\mathbf{a}_R \\Big] \\quad\n",
    "\\mathbf{B} = \\Big[ \\mathbf{b}_1 \\cdots \\mathbf{b}_R \\Big] \\quad\n",
    "\\mathbf{C} = \\Big[ \\mathbf{c}_1 \\cdots \\mathbf{c}_R \\Big] \\quad\n",
    "$$\n",
    "\n",
    "Thus, if we employ the mode-$n$ product, the **Kruskal representation** takes the form:\n",
    "\n",
    "$$\n",
    "\\mathbf{\\underline{X}} = \\mathbf{\\underline{\\Lambda}} \\times_1 \\mathbf{A} \\times_2 \\mathbf{B} \\times_3 \\mathbf{C} = \\Big[\\mathbf{\\underline{\\Lambda}}; \\mathbf{A}, \\mathbf{B}, \\mathbf{C} \\Big]\n",
    "$$\n",
    "\n",
    "where the elements on the super-diagonal of the core tensor $\\mathbf{\\underline{\\Lambda}}$ are occupied by the values $\\lambda_r$ and all other entries are equal to zero. This can be visualised as shown on figure below:\n",
    "\n",
    "<img src=\"./imgs/TensorCPD.png\" alt=\"Drawing\" style=\"width: 500px;\"/>\n"
   ]
  },
  {
   "cell_type": "code",
   "execution_count": 3,
   "metadata": {},
   "outputs": [
    {
     "name": "stdout",
     "output_type": "stream",
     "text": [
      "Kruskal representation of a tensor with rank=(2,).\n",
      "Factor matrices represent properties: ['mode-0', 'mode-1', 'mode-2']\n",
      "With corresponding latent components described by (3, 4, 5) features respectively.\n"
     ]
    }
   ],
   "source": [
    "# Create factor matrices\n",
    "I, J, K = 3, 4, 5\n",
    "R = 2\n",
    "\n",
    "A = np.arange(I * R).reshape(I, R)\n",
    "B = np.arange(J * R).reshape(J, R)\n",
    "C = np.arange(K * R).reshape(K, R)\n",
    "\n",
    "# Create core values\n",
    "values = np.arange(R)\n",
    "\n",
    "# Create Kruskal representation\n",
    "tensor_cpd = TensorCPD(fmat=[A, B, C], core_values=values)\n",
    "\n",
    "# Result preview\n",
    "print(tensor_cpd)"
   ]
  },
  {
   "cell_type": "markdown",
   "metadata": {},
   "source": [
    "## **Assigment 1**\n",
    "\n",
    "1. What is the order of a tensor if its Kruskal representation consists of 5 factor matrices.\n",
    "\n",
    "2. What is the order of a tensor if its Kruskal representation consists of core tensor which has only 5 elements on the super-diagonal.\n",
    "\n",
    "3. For a 3-rd order tensor that consists of 500 elements, provide three different Kruskal representations.\n",
    "\n",
    "4. For a tensor that consits of 1000 elements, provide three Kruskal representations, each of which should have different number of factor matrices.\n",
    "\n",
    "5. For a 4-th order tensor that consists of 2401 elements, provide Kruskal representation if its core tensor consisting of 81 elements.\n"
   ]
  },
  {
   "cell_type": "markdown",
   "metadata": {},
   "source": [
    "### Solution: Part 1"
   ]
  },
  {
   "cell_type": "code",
   "execution_count": 4,
   "metadata": {},
   "outputs": [
    {
     "name": "stdout",
     "output_type": "stream",
     "text": [
      "5\n"
     ]
    }
   ],
   "source": [
    "answer_1_1 = \"5\"  # use this variable for your answer\n",
    "\n",
    "print(answer_1_1)"
   ]
  },
  {
   "cell_type": "markdown",
   "metadata": {},
   "source": [
    "### Solution: Part 2"
   ]
  },
  {
   "cell_type": "code",
   "execution_count": 5,
   "metadata": {},
   "outputs": [
    {
     "name": "stdout",
     "output_type": "stream",
     "text": [
      "Order does not depend on number of elements in super diagonal but on number of factor matrices, rank is affected by number of elements in super diagonal.\n"
     ]
    }
   ],
   "source": [
    "answer_1_2 = \"Order does not depend on number of elements in super diagonal but on number of factor matrices, rank is affected by number of elements in super diagonal.\"  # use this variable for your answer\n",
    "\n",
    "print(answer_1_2)"
   ]
  },
  {
   "cell_type": "markdown",
   "metadata": {},
   "source": [
    "### Solution: Part 3"
   ]
  },
  {
   "cell_type": "code",
   "execution_count": 6,
   "metadata": {},
   "outputs": [
    {
     "name": "stdout",
     "output_type": "stream",
     "text": [
      "Kruskal representation of a tensor with rank=(20,).\n",
      "Factor matrices represent properties: ['mode-0', 'mode-1', 'mode-2']\n",
      "With corresponding latent components described by (5, 10, 10) features respectively.\n"
     ]
    }
   ],
   "source": [
    "# First representation\n",
    "I, J, K = 5, 10, 10\n",
    "R = 20\n",
    "\n",
    "A = np.arange(I * R).reshape(I, R)\n",
    "B = np.arange(J * R).reshape(J, R)\n",
    "C = np.arange(K * R).reshape(K, R)\n",
    "\n",
    "# Create core values\n",
    "values = np.arange(R)\n",
    "\n",
    "# Create Kruskal representation\n",
    "tensor_cpd1 = TensorCPD(fmat=[A, B, C], core_values=values)\n",
    "\n",
    "# Result preview\n",
    "print(tensor_cpd1)"
   ]
  },
  {
   "cell_type": "code",
   "execution_count": 7,
   "metadata": {},
   "outputs": [
    {
     "name": "stdout",
     "output_type": "stream",
     "text": [
      "Kruskal representation of a tensor with rank=(20,).\n",
      "Factor matrices represent properties: ['mode-0', 'mode-1', 'mode-2']\n",
      "With corresponding latent components described by (10, 5, 10) features respectively.\n"
     ]
    }
   ],
   "source": [
    "# Second representation\n",
    "I, J, K = 10, 5, 10\n",
    "R = 20\n",
    "\n",
    "A = np.arange(I * R).reshape(I, R)\n",
    "B = np.arange(J * R).reshape(J, R)\n",
    "C = np.arange(K * R).reshape(K, R)\n",
    "\n",
    "# Create core values\n",
    "values = np.arange(R)\n",
    "# Create Kruskal representation\n",
    "tensor_cpd2 = TensorCPD(fmat=[A, B, C], core_values=values)\n",
    "\n",
    "# Result preview\n",
    "print(tensor_cpd2)"
   ]
  },
  {
   "cell_type": "code",
   "execution_count": 8,
   "metadata": {},
   "outputs": [
    {
     "name": "stdout",
     "output_type": "stream",
     "text": [
      "Kruskal representation of a tensor with rank=(20,).\n",
      "Factor matrices represent properties: ['mode-0', 'mode-1', 'mode-2']\n",
      "With corresponding latent components described by (10, 10, 5) features respectively.\n"
     ]
    }
   ],
   "source": [
    "# Third representation\n",
    "I, J, K = 10, 10, 5\n",
    "R = 20\n",
    "\n",
    "A = np.arange(I * R).reshape(I, R)\n",
    "B = np.arange(J * R).reshape(J, R)\n",
    "C = np.arange(K * R).reshape(K, R)\n",
    "\n",
    "# Create core values\n",
    "values = np.arange(R)\n",
    "# Create Kruskal representation\n",
    "tensor_cpd3 = TensorCPD(fmat=[A, B, C], core_values=values)\n",
    "\n",
    "# Result preview\n",
    "print(tensor_cpd3)"
   ]
  },
  {
   "cell_type": "markdown",
   "metadata": {
    "toc-hr-collapsed": false
   },
   "source": [
    "### Solution: Part 4"
   ]
  },
  {
   "cell_type": "code",
   "execution_count": 9,
   "metadata": {},
   "outputs": [
    {
     "name": "stdout",
     "output_type": "stream",
     "text": [
      "Kruskal representation of a tensor with rank=(20,).\n",
      "Factor matrices represent properties: ['mode-0', 'mode-1', 'mode-2']\n",
      "With corresponding latent components described by (10, 10, 10) features respectively.\n"
     ]
    }
   ],
   "source": [
    "# First representation\n",
    "I, J, K = 10, 10, 10\n",
    "R = 20\n",
    "\n",
    "A = np.arange(I * R).reshape(I, R)\n",
    "B = np.arange(J * R).reshape(J, R)\n",
    "C = np.arange(K * R).reshape(K, R)\n",
    "\n",
    "# Create core values\n",
    "values = np.arange(R)\n",
    "\n",
    "# Create Kruskal representation\n",
    "tensor_cpd = TensorCPD(fmat=[A, B, C], core_values=values)\n",
    "\n",
    "# Result preview\n",
    "print(tensor_cpd)"
   ]
  },
  {
   "cell_type": "code",
   "execution_count": 10,
   "metadata": {},
   "outputs": [
    {
     "name": "stdout",
     "output_type": "stream",
     "text": [
      "Kruskal representation of a tensor with rank=(30,).\n",
      "Factor matrices represent properties: ['mode-0', 'mode-1', 'mode-2', 'mode-3']\n",
      "With corresponding latent components described by (5, 10, 10, 2) features respectively.\n"
     ]
    }
   ],
   "source": [
    "# Second representation\n",
    "I, J, K, M = 5, 10, 10, 2\n",
    "R = 30\n",
    "\n",
    "A = np.arange(I * R).reshape(I, R)\n",
    "B = np.arange(J * R).reshape(J, R)\n",
    "C = np.arange(K * R).reshape(K, R)\n",
    "M = np.arange(M * R).reshape(M, R)\n",
    "\n",
    "# Create core values\n",
    "values = np.arange(R)\n",
    "\n",
    "# Create Kruskal representation\n",
    "tensor_cpd = TensorCPD(fmat=[A, B, C, M], core_values=values)\n",
    "\n",
    "# Result preview\n",
    "print(tensor_cpd)"
   ]
  },
  {
   "cell_type": "code",
   "execution_count": 11,
   "metadata": {},
   "outputs": [
    {
     "name": "stdout",
     "output_type": "stream",
     "text": [
      "Kruskal representation of a tensor with rank=(30,).\n",
      "Factor matrices represent properties: ['mode-0', 'mode-1', 'mode-2', 'mode-3', 'mode-4']\n",
      "With corresponding latent components described by (5, 5, 10, 2, 2) features respectively.\n"
     ]
    }
   ],
   "source": [
    "# Third representation\n",
    "I, J, K, M, P = 5, 5, 10, 2, 2\n",
    "R = 30\n",
    "\n",
    "A = np.arange(I * R).reshape(I, R)\n",
    "B = np.arange(J * R).reshape(J, R)\n",
    "C = np.arange(K * R).reshape(K, R)\n",
    "M = np.arange(M * R).reshape(M, R)\n",
    "P = np.arange(P * R).reshape(P, R)\n",
    "\n",
    "# Create core values\n",
    "values = np.arange(R)\n",
    "\n",
    "# Create Kruskal representation\n",
    "tensor_cpd = TensorCPD(fmat=[A, B, C, M, P], core_values=values)\n",
    "\n",
    "# Result preview\n",
    "print(tensor_cpd)"
   ]
  },
  {
   "cell_type": "markdown",
   "metadata": {},
   "source": [
    "### Solution: Part 5"
   ]
  },
  {
   "cell_type": "code",
   "execution_count": 12,
   "metadata": {},
   "outputs": [
    {
     "name": "stdout",
     "output_type": "stream",
     "text": [
      "Kruskal representation of a tensor with rank=(3,).\n",
      "Factor matrices represent properties: ['mode-0', 'mode-1', 'mode-2', 'mode-3']\n",
      "With corresponding latent components described by (7, 7, 7, 7) features respectively.\n"
     ]
    }
   ],
   "source": [
    "# Provide Kruskal representation here\n",
    "I, J, K, M = 7, 7, 7, 7\n",
    "R = 3 # 81 elements = 3x3x3x3 \n",
    "\n",
    "A = np.arange(I * R).reshape(I, R)\n",
    "B = np.arange(J * R).reshape(J, R)\n",
    "C = np.arange(K * R).reshape(K, R)\n",
    "M = np.arange(M * R).reshape(M, R)\n",
    "\n",
    "# Create core values\n",
    "values = np.arange(R)\n",
    "\n",
    "# Create Kruskal representation\n",
    "tensor_cpd = TensorCPD(fmat=[A, B, C, M], core_values=values)\n",
    "\n",
    "# Result preview\n",
    "print(tensor_cpd)"
   ]
  },
  {
   "cell_type": "markdown",
   "metadata": {
    "toc-hr-collapsed": false
   },
   "source": [
    "# Tucker representation\n",
    "\n"
   ]
  },
  {
   "cell_type": "markdown",
   "metadata": {},
   "source": [
    "<img src=\"./imgs/TensorTKD.png\" alt=\"Drawing\" style=\"width: 600px;\"/>\n",
    "\n",
    "For a tensor $\\mathbf{\\underline{X}} \\in \\mathbb{R}^{I \\times J \\times K}$ illustrated above, the **Tucker form** represents the tensor in hand through a dense core tensor $\\mathbf{\\underline{G}}$ with multi-linear rank ($Q, R, P$) and a set of accompanying factor matrices $\\mathbf{A} \\in \\mathbb{R}^{I \\times Q}, \\mathbf{B} \\in \\mathbb{R}^{J \\times R}$ and $\\mathbf{C} \\in \\mathbb{R}^{K \\times P}$.\n",
    "\n",
    "$$\n",
    "\\mathbf{\\underline{X}} = \\sum_{q=1}^Q \\sum_{r=1}^R \\sum_{p=1}^P \\mathbf{\\underline{X}}_{qrp} = \\sum_{q=1}^Q \\sum_{r=1}^R \\sum_{p=1}^P g_{qrp} \\cdot \\mathbf{a}_q \\circ \\mathbf{b}_r \\circ \\mathbf{c}_p\n",
    "$$\n",
    "\n",
    "The Tucker form of a tensor is closely related to the Kruskal representation and can be expressed through a \n",
    "sequence of mode-$n$ products in a similar way, that is\n",
    "\n",
    "$$\n",
    "\\mathbf{\\underline{X}} = \\mathbf{\\underline{G}} \\times_1 \\mathbf{A} \\times_2 \\mathbf{B} \\times_3 \\mathbf{C} = \\Big[\\mathbf{\\underline{G}}; \\mathbf{A}, \\mathbf{B}, \\mathbf{C} \\Big]\n",
    "$$\n"
   ]
  },
  {
   "cell_type": "code",
   "execution_count": 13,
   "metadata": {},
   "outputs": [
    {
     "name": "stdout",
     "output_type": "stream",
     "text": [
      "Tucker representation of a tensor with multi-linear rank=(2, 3, 4).\n",
      "Factor matrices represent properties: ['mode-0', 'mode-1', 'mode-2']\n",
      "With corresponding latent components described by (5, 6, 7) features respectively.\n"
     ]
    }
   ],
   "source": [
    "# Create factor matrices\n",
    "I, J, K = 5, 6, 7  # define shape of the tensor in full form\n",
    "Q, R, P = 2, 3, 4  # define multi-linear rank of the tensor in Tucker form\n",
    "\n",
    "A = np.arange(I * Q).reshape(I, Q)\n",
    "B = np.arange(J * R).reshape(J, R)\n",
    "C = np.arange(K * P).reshape(K, P)\n",
    "\n",
    "# Create core values\n",
    "values = np.arange(Q * R * P).reshape(Q, R, P)\n",
    "\n",
    "# Create Tucker representation\n",
    "tensor_tkd = TensorTKD(fmat=[A, B, C], core_values=values)\n",
    "\n",
    "# Result preview\n",
    "print(tensor_tkd)"
   ]
  },
  {
   "cell_type": "markdown",
   "metadata": {},
   "source": [
    "## **Assigment 2**\n",
    "\n",
    "1. Core tensor of a Tucker representation consists of 1848 elements. Explain what tensor order should a tensor have to able to be represented in such form.\n",
    "\n",
    "2. For a 4-th order tensor that consists of 1000 elements, provide three different Tucker representations.\n",
    "\n",
    "3. For a 3-rd order tensor that consists of 500 elements, provide three different Tucker representations given that its core tensor consists of 42 elements.\n",
    "\n",
    "4. Provide an intuition behind the main difference between the Tucker and Kruskal representations.\n"
   ]
  },
  {
   "cell_type": "markdown",
   "metadata": {},
   "source": [
    "### Solution: Part 1"
   ]
  },
  {
   "cell_type": "code",
   "execution_count": 14,
   "metadata": {},
   "outputs": [
    {
     "name": "stdout",
     "output_type": "stream",
     "text": [
      "For a core tensor of 1848 elements, a tensor can be represented with tensor order: 1(1848), 2(168x11), 3(24x11x7), 4(11x8x7x3), 5(11x7x4x3x2) and 6(11x7x3x2x2x2).\n"
     ]
    }
   ],
   "source": [
    "answer_2_1 = \"For a core tensor of 1848 elements, a tensor can be represented with tensor order: 1(1848), 2(168x11), 3(24x11x7), 4(11x8x7x3), 5(11x7x4x3x2) and 6(11x7x3x2x2x2).\"  # use this variable for your answer\n",
    "\n",
    "print(answer_2_1)"
   ]
  },
  {
   "cell_type": "markdown",
   "metadata": {},
   "source": [
    "### Solution: Part 2"
   ]
  },
  {
   "cell_type": "code",
   "execution_count": 15,
   "metadata": {},
   "outputs": [
    {
     "name": "stdout",
     "output_type": "stream",
     "text": [
      "Tucker representation of a tensor with multi-linear rank=(2, 4, 7, 2).\n",
      "Factor matrices represent properties: ['mode-0', 'mode-1', 'mode-2', 'mode-3']\n",
      "With corresponding latent components described by (2, 5, 10, 10) features respectively.\n"
     ]
    }
   ],
   "source": [
    "# First representation\n",
    "# Create factor matrices\n",
    "I, J, K, M = 2, 5, 10, 10  # define shape of the tensor in full form\n",
    "Q, R, P, S = 2, 4, 7, 2  # define multi-linear rank of the tensor in Tucker form\n",
    "\n",
    "A = np.arange(I * Q).reshape(I, Q)\n",
    "B = np.arange(J * R).reshape(J, R)\n",
    "C = np.arange(K * P).reshape(K, P)\n",
    "D = np.arange(M * S).reshape(M, S)\n",
    "\n",
    "# Create core values\n",
    "values = np.arange(Q * R * P * S).reshape(Q, R, P, S)\n",
    "\n",
    "# Create Tucker representation\n",
    "tensor_tkd = TensorTKD(fmat=[A, B, C, D], core_values=values)\n",
    "\n",
    "# Result preview\n",
    "print(tensor_tkd)"
   ]
  },
  {
   "cell_type": "code",
   "execution_count": 16,
   "metadata": {},
   "outputs": [
    {
     "name": "stdout",
     "output_type": "stream",
     "text": [
      "Tucker representation of a tensor with multi-linear rank=(3, 2, 8, 9).\n",
      "Factor matrices represent properties: ['mode-0', 'mode-1', 'mode-2', 'mode-3']\n",
      "With corresponding latent components described by (2, 5, 10, 10) features respectively.\n"
     ]
    }
   ],
   "source": [
    "# Second representation\n",
    "# Create factor matrices\n",
    "I, J, K, M = 2, 5, 10, 10  # define shape of the tensor in full form\n",
    "Q, R, P, S = 3, 2, 8, 9  # define multi-linear rank of the tensor in Tucker form\n",
    "\n",
    "A = np.arange(I * Q).reshape(I, Q)\n",
    "B = np.arange(J * R).reshape(J, R)\n",
    "C = np.arange(K * P).reshape(K, P)\n",
    "D = np.arange(M * S).reshape(M, S)\n",
    "\n",
    "# Create core values\n",
    "values = np.arange(Q * R * P * S).reshape(Q, R, P, S)\n",
    "\n",
    "# Create Tucker representation\n",
    "tensor_tkd = TensorTKD(fmat=[A, B, C, D], core_values=values)\n",
    "\n",
    "# Result preview\n",
    "print(tensor_tkd)"
   ]
  },
  {
   "cell_type": "code",
   "execution_count": 17,
   "metadata": {},
   "outputs": [
    {
     "name": "stdout",
     "output_type": "stream",
     "text": [
      "Tucker representation of a tensor with multi-linear rank=(3, 4, 7, 10).\n",
      "Factor matrices represent properties: ['mode-0', 'mode-1', 'mode-2', 'mode-3']\n",
      "With corresponding latent components described by (2, 5, 10, 10) features respectively.\n"
     ]
    }
   ],
   "source": [
    "# Third representation\n",
    "# Create factor matrices\n",
    "I, J, K, M = 2, 5, 10, 10  # define shape of the tensor in full form\n",
    "Q, R, P, S = 3, 4, 7, 10  # define multi-linear rank of the tensor in Tucker form\n",
    "\n",
    "A = np.arange(I * Q).reshape(I, Q)\n",
    "B = np.arange(J * R).reshape(J, R)\n",
    "C = np.arange(K * P).reshape(K, P)\n",
    "D = np.arange(M * S).reshape(M, S)\n",
    "\n",
    "# Create core values\n",
    "values = np.arange(Q * R * P * S).reshape(Q, R, P, S)\n",
    "\n",
    "# Create Tucker representation\n",
    "tensor_tkd = TensorTKD(fmat=[A, B, C, D], core_values=values)\n",
    "\n",
    "# Result preview\n",
    "print(tensor_tkd)"
   ]
  },
  {
   "cell_type": "markdown",
   "metadata": {},
   "source": [
    "### Solution: Part 3"
   ]
  },
  {
   "cell_type": "code",
   "execution_count": 18,
   "metadata": {},
   "outputs": [
    {
     "name": "stdout",
     "output_type": "stream",
     "text": [
      "Tucker representation of a tensor with multi-linear rank=(2, 3, 7).\n",
      "Factor matrices represent properties: ['mode-0', 'mode-1', 'mode-2']\n",
      "With corresponding latent components described by (5, 10, 10) features respectively.\n"
     ]
    }
   ],
   "source": [
    "# First representation\n",
    "# Create factor matrices\n",
    "I, J, K = 5, 10, 10  # define shape of the tensor in full form\n",
    "Q, R, P = 2, 3, 7  # define multi-linear rank of the tensor in Tucker form\n",
    "\n",
    "A = np.arange(I * Q).reshape(I, Q)\n",
    "B = np.arange(J * R).reshape(J, R)\n",
    "C = np.arange(K * P).reshape(K, P)\n",
    "\n",
    "# Create core values\n",
    "values = np.arange(Q * R * P).reshape(Q, R, P)\n",
    "\n",
    "# Create Tucker representation\n",
    "tensor_tkd = TensorTKD(fmat=[A, B, C], core_values=values)\n",
    "\n",
    "# Result preview\n",
    "print(tensor_tkd)"
   ]
  },
  {
   "cell_type": "code",
   "execution_count": 19,
   "metadata": {},
   "outputs": [
    {
     "name": "stdout",
     "output_type": "stream",
     "text": [
      "Tucker representation of a tensor with multi-linear rank=(3, 7, 2).\n",
      "Factor matrices represent properties: ['mode-0', 'mode-1', 'mode-2']\n",
      "With corresponding latent components described by (5, 10, 10) features respectively.\n"
     ]
    }
   ],
   "source": [
    "# Second representation\n",
    "# Create factor matrices\n",
    "I, J, K = 5, 10, 10  # define shape of the tensor in full form\n",
    "Q, R, P = 3, 7, 2  # define multi-linear rank of the tensor in Tucker form\n",
    "\n",
    "A = np.arange(I * Q).reshape(I, Q)\n",
    "B = np.arange(J * R).reshape(J, R)\n",
    "C = np.arange(K * P).reshape(K, P)\n",
    "\n",
    "# Create core values\n",
    "values = np.arange(Q * R * P).reshape(Q, R, P)\n",
    "\n",
    "# Create Tucker representation\n",
    "tensor_tkd = TensorTKD(fmat=[A, B, C], core_values=values)\n",
    "\n",
    "# Result preview\n",
    "print(tensor_tkd)"
   ]
  },
  {
   "cell_type": "code",
   "execution_count": 20,
   "metadata": {},
   "outputs": [
    {
     "name": "stdout",
     "output_type": "stream",
     "text": [
      "Tucker representation of a tensor with multi-linear rank=(2, 7, 3).\n",
      "Factor matrices represent properties: ['mode-0', 'mode-1', 'mode-2']\n",
      "With corresponding latent components described by (5, 10, 10) features respectively.\n"
     ]
    }
   ],
   "source": [
    "# Third representation\n",
    "# Create factor matrices\n",
    "I, J, K = 5, 10, 10  # define shape of the tensor in full form\n",
    "Q, R, P = 2, 7, 3  # define multi-linear rank of the tensor in Tucker form\n",
    "\n",
    "A = np.arange(I * Q).reshape(I, Q)\n",
    "B = np.arange(J * R).reshape(J, R)\n",
    "C = np.arange(K * P).reshape(K, P)\n",
    "\n",
    "# Create core values\n",
    "values = np.arange(Q * R * P).reshape(Q, R, P)\n",
    "\n",
    "# Create Tucker representation\n",
    "tensor_tkd = TensorTKD(fmat=[A, B, C], core_values=values)\n",
    "\n",
    "# Result preview\n",
    "print(tensor_tkd)"
   ]
  },
  {
   "cell_type": "markdown",
   "metadata": {},
   "source": [
    "### Solution: Part 4"
   ]
  },
  {
   "cell_type": "code",
   "execution_count": 21,
   "metadata": {},
   "outputs": [
    {
     "name": "stdout",
     "output_type": "stream",
     "text": [
      "The main difference between Kruskal and Tucker representation lies in that Kruskal performs a sort of SVD decomposition, where the core tensor only contains the eigenvalues, this way the representation depends on the rank R of the tensor, hence the summation up to R. The Tucker representation on the other hand performs the a similar decomposition but with the weights filling the whole core tensor. This way the core tensor has representation QxRxP and only delivers the original tensor if QxRxP=R. The tucker representation thus produces a representation where more information lies in the core tensor (it isn't superdiagonal) and thus the factor matrices are smaller (ixQ vs IxR), whilst the Kruskal representation has more information in the factor matrices.\n"
     ]
    }
   ],
   "source": [
    "answer_2_4 = '''The main difference between Kruskal and Tucker representation lies in that Kruskal performs a sort of SVD decomposition, where the core \\\n",
    "tensor only contains the eigenvalues, this way the representation depends on the rank R of the tensor, hence the summation up to R. The Tucker \\\n",
    "representation on the other hand performs the a similar decomposition but with the weights filling the whole core tensor. This way the core \\\n",
    "tensor has representation QxRxP and only delivers the original tensor if QxRxP=R. The tucker representation thus produces a representation where \\\n",
    "more information lies in the core tensor (it isn't superdiagonal) and thus the factor matrices are smaller (ixQ vs IxR), whilst the Kruskal \\\n",
    "representation has more information in the factor matrices.'''  # use this variable for your answer\n",
    "\n",
    "print(answer_2_4)"
   ]
  }
 ],
 "metadata": {
  "kernelspec": {
   "display_name": "dpm-coursework",
   "language": "python",
   "name": "dpm-coursework"
  },
  "language_info": {
   "codemirror_mode": {
    "name": "ipython",
    "version": 3
   },
   "file_extension": ".py",
   "mimetype": "text/x-python",
   "name": "python",
   "nbconvert_exporter": "python",
   "pygments_lexer": "ipython3",
   "version": "3.7.2"
  },
  "toc-autonumbering": false,
  "toc-showcode": false
 },
 "nbformat": 4,
 "nbformat_minor": 2
}
