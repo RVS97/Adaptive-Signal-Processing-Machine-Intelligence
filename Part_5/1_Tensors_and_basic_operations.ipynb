{
 "cells": [
  {
   "cell_type": "code",
   "execution_count": 1,
   "metadata": {},
   "outputs": [],
   "source": [
    "%load_ext autoreload\n",
    "%autoreload 2\n",
    "%matplotlib inline"
   ]
  },
  {
   "cell_type": "code",
   "execution_count": 2,
   "metadata": {},
   "outputs": [],
   "source": [
    "import numpy as np\n",
    "import matplotlib.pyplot as plt\n",
    "from hottbox.core import Tensor"
   ]
  },
  {
   "cell_type": "markdown",
   "metadata": {
    "toc-hr-collapsed": false
   },
   "source": [
    "[Return to Table of Contents](./0_Table_of_contents.ipynb)"
   ]
  },
  {
   "cell_type": "markdown",
   "metadata": {
    "toc-hr-collapsed": false
   },
   "source": [
    "# Tensors and basic operations"
   ]
  },
  {
   "cell_type": "markdown",
   "metadata": {
    "toc-hr-collapsed": true
   },
   "source": [
    "<img src=\"./imgs/tensors_dogs.jpg\" alt=\"Drawing\" style=\"width: 500px;\"/>\n",
    "\n",
    "A tensor is a multi-dimenaional array of data where each dimension is conventionally referred to as the **mode**. Tensor order is defined by the number of its modes which is equivivalent to the number of indices required to identify a particular entry of a multi-dimensional array. For ease of visualisation and compact notation, we consider a third order tensor $\\mathbf{\\underline{X}} \\in \\mathbb{R}^{I \\times J \\times K}$. Thus, an element of such a tensor, $\\mathbf{\\underline{X}} \\in \\mathbb{R}^{I \\times J \\times K}$, can be written in a general form as:\n",
    "\n",
    "$$ x_{ijk} = \\mathbf{\\underline{X}}[i, j, k]$$\n",
    "\n",
    "> **Note:** In order to be consistent with Python indexing, count of modes and elements within starts from zeros.\n",
    "\n",
    "Creation of a tensor starts with a formation of a multidimensional array of data."
   ]
  },
  {
   "cell_type": "code",
   "execution_count": 3,
   "metadata": {},
   "outputs": [
    {
     "name": "stdout",
     "output_type": "stream",
     "text": [
      "This tensor is of order 3 and consists of 24 elements.\n",
      "Sizes and names of its modes are (2, 3, 4) and ['mode-0', 'mode-1', 'mode-2'] respectively.\n"
     ]
    },
    {
     "data": {
      "text/plain": [
       "array([[[ 0,  1,  2,  3],\n",
       "        [ 4,  5,  6,  7],\n",
       "        [ 8,  9, 10, 11]],\n",
       "\n",
       "       [[12, 13, 14, 15],\n",
       "        [16, 17, 18, 19],\n",
       "        [20, 21, 22, 23]]])"
      ]
     },
     "execution_count": 3,
     "metadata": {},
     "output_type": "execute_result"
    }
   ],
   "source": [
    "# Create 3-d array of data\n",
    "array_3d = np.arange(24).reshape((2, 3, 4))\n",
    "\n",
    "# Create tensor\n",
    "tensor = Tensor(array_3d)\n",
    "\n",
    "# Result preview\n",
    "print(tensor)\n",
    "tensor.data"
   ]
  },
  {
   "cell_type": "markdown",
   "metadata": {
    "toc-hr-collapsed": true
   },
   "source": [
    "## **Assigment 1**\n",
    "\n",
    "1. Create a tensor of order 5 (of any shape) and with all its values equal to 5. Then, calculate its Frobenious norm. \n",
    "2. Construct several tensors of orders varying from 3 to 20, with the size of each dimension equal to 2. Plot the relation between an order of a tensor and the number of its elements.\n",
    "3. Construct several tensors of order 3 with the size of each dimension varying from 3 to 15. Plot the relation between the size of dimensions of a tensor and the number of its elements.\n",
    "4. Analyse and compare the so obtained graphs."
   ]
  },
  {
   "cell_type": "markdown",
   "metadata": {},
   "source": [
    "### Solution: Part 1"
   ]
  },
  {
   "cell_type": "code",
   "execution_count": 4,
   "metadata": {},
   "outputs": [],
   "source": [
    "# Create a tensor\n",
    "array5D = 5*np.ones((2,3,2,3,2))\n",
    "tensor = Tensor(array5D)"
   ]
  },
  {
   "cell_type": "code",
   "execution_count": 5,
   "metadata": {},
   "outputs": [
    {
     "data": {
      "text/plain": [
       "42.42640687119285"
      ]
     },
     "execution_count": 5,
     "metadata": {},
     "output_type": "execute_result"
    }
   ],
   "source": [
    "# Calculate Frobenious norm\n",
    "norm = tensor.frob_norm\n",
    "norm"
   ]
  },
  {
   "cell_type": "markdown",
   "metadata": {},
   "source": [
    "### Solution: Part 2"
   ]
  },
  {
   "cell_type": "code",
   "execution_count": 6,
   "metadata": {},
   "outputs": [],
   "source": [
    "# Create tensors and collect information\n",
    "order = np.zeros((10,))\n",
    "elemNum = np.zeros((10,))\n",
    "tensor3 = Tensor(np.arange(2**3).reshape((2,2,2)))\n",
    "order[0] = tensor3.order\n",
    "elemNum[0] = tensor3.size\n",
    "tensor5 = Tensor(np.arange(2**5).reshape((2,2,2,2,2)))\n",
    "order[1] = tensor5.order\n",
    "elemNum[1] = tensor5.size\n",
    "tensor7 = Tensor(np.arange(2**7).reshape((2,2,2,2,2,2,2)))\n",
    "order[2] = tensor7.order\n",
    "elemNum[2] = tensor7.size\n",
    "tensor9 = Tensor(np.arange(2**9).reshape((2,2,2,2,2,2,2,2,2)))\n",
    "order[3] = tensor9.order\n",
    "elemNum[3] = tensor9.size\n",
    "tensor11 = Tensor(np.arange(2**11).reshape((2,2,2,2,2,2,2,2,2,2,2)))\n",
    "order[4] = tensor11.order\n",
    "elemNum[4] = tensor11.size\n",
    "tensor13 = Tensor(np.arange(2**13).reshape((2,2,2,2,2,2,2,2,2,2,2,2,2)))\n",
    "order[5] = tensor13.order\n",
    "elemNum[5] = tensor13.size\n",
    "tensor15 = Tensor(np.arange(2**15).reshape((2,2,2,2,2,2,2,2,2,2,2,2,2,2,2)))\n",
    "order[6] = tensor15.order\n",
    "elemNum[6] = tensor15.size\n",
    "tensor17 = Tensor(np.arange(2**17).reshape((2,2,2,2,2,2,2,2,2,2,2,2,2,2,2,2,2)))\n",
    "order[7] = tensor17.order\n",
    "elemNum[7] = tensor17.size\n",
    "tensor19 = Tensor(np.arange(2**19).reshape((2,2,2,2,2,2,2,2,2,2,2,2,2,2,2,2,2,2,2)))\n",
    "order[8] = tensor19.order\n",
    "elemNum[8] = tensor19.size\n",
    "tensor20 = Tensor(np.arange(2**20).reshape((2,2,2,2,2,2,2,2,2,2,2,2,2,2,2,2,2,2,2,2)))\n",
    "order[9] = tensor20.order\n",
    "elemNum[9] = tensor20.size"
   ]
  },
  {
   "cell_type": "code",
   "execution_count": 7,
   "metadata": {},
   "outputs": [
    {
     "data": {
      "text/plain": [
       "Text(0.5, 1.0, 'Order vs Number of elements')"
      ]
     },
     "execution_count": 7,
     "metadata": {},
     "output_type": "execute_result"
    },
    {
     "data": {
      "image/png": "[encoded data removed]",
      "text/plain": [
       "<Figure size 432x288 with 1 Axes>"
      ]
     },
     "metadata": {
      "needs_background": "light"
     },
     "output_type": "display_data"
    }
   ],
   "source": [
    "# Plot results\n",
    "plt.plot(order,elemNum)\n",
    "plt.xlabel('Order')\n",
    "plt.ylabel('Number of elements')\n",
    "plt.title('Order vs Number of elements')"
   ]
  },
  {
   "cell_type": "markdown",
   "metadata": {},
   "source": [
    "### Solution: Part 3"
   ]
  },
  {
   "cell_type": "code",
   "execution_count": 8,
   "metadata": {},
   "outputs": [],
   "source": [
    "# Create tensors and collect information\n",
    "dim = np.zeros((7,))\n",
    "elemNum = np.zeros((7,))\n",
    "\n",
    "tensor3 = Tensor(np.arange(3**3).reshape((3,3,3)))\n",
    "dim[0] = tensor3.shape[0]\n",
    "elemNum[0] = tensor3.size\n",
    "tensor5 = Tensor(np.arange(5**3).reshape((5,5,5)))\n",
    "dim[1] = tensor5.shape[0]\n",
    "elemNum[1] = tensor5.size\n",
    "tensor7 = Tensor(np.arange(7**3).reshape((7,7,7)))\n",
    "dim[2] = tensor7.shape[0]\n",
    "elemNum[2] = tensor7.size\n",
    "tensor9 = Tensor(np.arange(9**3).reshape((9,9,9)))\n",
    "dim[3] = tensor9.shape[0]\n",
    "elemNum[3] = tensor9.size\n",
    "tensor11 = Tensor(np.arange(11**3).reshape((11,11,11)))\n",
    "dim[4] = tensor11.shape[0]\n",
    "elemNum[4] = tensor11.size\n",
    "tensor13 = Tensor(np.arange(13**3).reshape((13,13,13)))\n",
    "dim[5] = tensor13.shape[0]\n",
    "elemNum[5] = tensor13.size\n",
    "tensor15 = Tensor(np.arange(15**3).reshape((15,15,15)))\n",
    "dim[6] = tensor15.shape[0]\n",
    "elemNum[6] = tensor15.size"
   ]
  },
  {
   "cell_type": "code",
   "execution_count": 9,
   "metadata": {},
   "outputs": [
    {
     "data": {
      "text/plain": [
       "Text(0.5, 1.0, 'Dimension size vs Number of elements')"
      ]
     },
     "execution_count": 9,
     "metadata": {},
     "output_type": "execute_result"
    },
    {
     "data": {
      "image/png": "[encoded data removed]",
      "text/plain": [
       "<Figure size 432x288 with 1 Axes>"
      ]
     },
     "metadata": {
      "needs_background": "light"
     },
     "output_type": "display_data"
    }
   ],
   "source": [
    "# Plot results\n",
    "plt.plot(dim,elemNum)\n",
    "plt.xlabel('Dimension size')\n",
    "plt.ylabel('Number of elements')\n",
    "plt.title('Dimension size vs Number of elements')"
   ]
  },
  {
   "cell_type": "markdown",
   "metadata": {},
   "source": [
    "### Solution: Part 4"
   ]
  },
  {
   "cell_type": "markdown",
   "metadata": {},
   "source": [
    "As the graphs show the relation between order and number of elements is as expected exponential. Keeping the dimensions equal at a specific value, every increase in order will increase the number of elements by the added dimension, as to how a 3 element vector increases to 9 elements for a 3x3 matrix just by increasing the order by one. In the case of the graph the plot is if $3^n$, where n is order, or in a more general case, $N = dim^n$, where $dim$ is the dimension. \n",
    "\n",
    "\n",
    "The relation between dimension and number of elements is again as expected, dependent on the order. In this case with order 3 the relation is cubic $dim^3$ (eg,$10^3=1000$), by increasing the dimension we are effectively making the $cube$ bigger, hence the number of elements will be dependent on the order of the tensor, $N = dim^{order}$.\n",
    "\n",
    "Increasing order thus has a much bigger effect in the number of elements than increasing dimension, as the exponential increases more rapidly than the polynomial.\n"
   ]
  },
  {
   "cell_type": "markdown",
   "metadata": {
    "toc-hr-collapsed": false
   },
   "source": [
    "# Most common tensor substructures\n",
    "<img src=\"./imgs/tensor_substructures.png\" alt=\"Drawing\" style=\"width: 500px;\"/>\n",
    "\n",
    "1. A **fiber** is a vector obtained by fixing all but one of the indices, e.g.  $\\mathbf{\\underline{X}}[i,:,k]$ is the mode-2 fiber $\\mathbf{\\underline{X}}$ (usually refered to as row fiber). \n",
    "\n",
    "1. Fixing all but two of the indices yields a matrix called a **slice** of a tensor, e.g. $\\mathbf{\\underline{X}}[:,:,k]$ is the mode-[1,2] slice (usually refered to as the frontal slice).\n",
    "\n",
    "**Note:** The same principles and definitions can be applied to a tensor of an arbitrarily large order. In addition, you can obtain a **subtensor** by fixing at least three indices and letting the remaining ones vary."
   ]
  },
  {
   "cell_type": "code",
   "execution_count": 10,
   "metadata": {},
   "outputs": [
    {
     "data": {
      "text/plain": [
       "array([[[5., 5.],\n",
       "        [5., 5.],\n",
       "        [5., 5.]],\n",
       "\n",
       "       [[5., 5.],\n",
       "        [5., 5.],\n",
       "        [5., 5.]]])"
      ]
     },
     "execution_count": 10,
     "metadata": {},
     "output_type": "execute_result"
    }
   ],
   "source": [
    "# Mode-2 fiber\n",
    "tensor.data[0,1,:]"
   ]
  },
  {
   "cell_type": "code",
   "execution_count": 11,
   "metadata": {},
   "outputs": [
    {
     "data": {
      "text/plain": [
       "array([[[[5., 5.],\n",
       "         [5., 5.],\n",
       "         [5., 5.]],\n",
       "\n",
       "        [[5., 5.],\n",
       "         [5., 5.],\n",
       "         [5., 5.]]],\n",
       "\n",
       "\n",
       "       [[[5., 5.],\n",
       "         [5., 5.],\n",
       "         [5., 5.]],\n",
       "\n",
       "        [[5., 5.],\n",
       "         [5., 5.],\n",
       "         [5., 5.]]],\n",
       "\n",
       "\n",
       "       [[[5., 5.],\n",
       "         [5., 5.],\n",
       "         [5., 5.]],\n",
       "\n",
       "        [[5., 5.],\n",
       "         [5., 5.],\n",
       "         [5., 5.]]]])"
      ]
     },
     "execution_count": 11,
     "metadata": {},
     "output_type": "execute_result"
    }
   ],
   "source": [
    "# Frontal slice\n",
    "tensor.data[0,:,:]"
   ]
  },
  {
   "cell_type": "markdown",
   "metadata": {
    "toc-hr-collapsed": true
   },
   "source": [
    "## **Assigment 2**\n",
    "\n",
    "1. Create a tensor of order 4 which consists of 81 elements and display all its horizontal slices and any five row fibers.\n",
    "2. Create a tensor of order 3 and shape `(4,2,5)`, where the values of each consequent frontal slice are doubled."
   ]
  },
  {
   "cell_type": "markdown",
   "metadata": {},
   "source": [
    "### Solution: Part 1"
   ]
  },
  {
   "cell_type": "code",
   "execution_count": 12,
   "metadata": {},
   "outputs": [],
   "source": [
    "# Create a tensor of order 4\n",
    "tensor = Tensor(np.arange(81).reshape((3,3,3,3)))"
   ]
  },
  {
   "cell_type": "code",
   "execution_count": 13,
   "metadata": {},
   "outputs": [
    {
     "name": "stdout",
     "output_type": "stream",
     "text": [
      "[[ 0  3  6]\n",
      " [ 9 12 15]\n",
      " [18 21 24]]\n",
      "[[ 1  4  7]\n",
      " [10 13 16]\n",
      " [19 22 25]]\n",
      "[[ 2  5  8]\n",
      " [11 14 17]\n",
      " [20 23 26]]\n",
      "[[27 30 33]\n",
      " [36 39 42]\n",
      " [45 48 51]]\n",
      "[[28 31 34]\n",
      " [37 40 43]\n",
      " [46 49 52]]\n",
      "[[29 32 35]\n",
      " [38 41 44]\n",
      " [47 50 53]]\n",
      "[[54 57 60]\n",
      " [63 66 69]\n",
      " [72 75 78]]\n",
      "[[55 58 61]\n",
      " [64 67 70]\n",
      " [73 76 79]]\n",
      "[[56 59 62]\n",
      " [65 68 71]\n",
      " [74 77 80]]\n"
     ]
    }
   ],
   "source": [
    "# Display slices\n",
    "for j in range(3):\n",
    "    for i in range(3):\n",
    "        print(tensor.data[j,:,:,i])"
   ]
  },
  {
   "cell_type": "code",
   "execution_count": 14,
   "metadata": {},
   "outputs": [
    {
     "name": "stdout",
     "output_type": "stream",
     "text": [
      "[ 0  9 18]\n",
      "[ 1 10 19]\n",
      "[ 2 11 20]\n",
      "[ 3 12 21]\n",
      "[ 4 13 22]\n"
     ]
    }
   ],
   "source": [
    "# Display fibers\n",
    "print(tensor.data[0,:,0,0])\n",
    "print(tensor.data[0,:,0,1])\n",
    "print(tensor.data[0,:,0,2])\n",
    "print(tensor.data[0,:,1,0])\n",
    "print(tensor.data[0,:,1,1])"
   ]
  },
  {
   "cell_type": "markdown",
   "metadata": {},
   "source": [
    "### Solution: Part 2"
   ]
  },
  {
   "cell_type": "code",
   "execution_count": 15,
   "metadata": {},
   "outputs": [
    {
     "data": {
      "text/plain": [
       "array([[[ 1.,  2.,  4.,  8., 16.],\n",
       "        [ 1.,  2.,  4.,  8., 16.]],\n",
       "\n",
       "       [[ 1.,  2.,  4.,  8., 16.],\n",
       "        [ 1.,  2.,  4.,  8., 16.]],\n",
       "\n",
       "       [[ 1.,  2.,  4.,  8., 16.],\n",
       "        [ 1.,  2.,  4.,  8., 16.]],\n",
       "\n",
       "       [[ 1.,  2.,  4.,  8., 16.],\n",
       "        [ 1.,  2.,  4.,  8., 16.]]])"
      ]
     },
     "execution_count": 15,
     "metadata": {},
     "output_type": "execute_result"
    }
   ],
   "source": [
    "# Create a tensor of order 3\n",
    "tensor = Tensor(np.ones(40).reshape((4,2,5)))\n",
    "for i in range(4):\n",
    "    tensor.data[:,:,i+1] = 2*tensor.data[:,:,i]\n",
    "    \n",
    "tensor.data"
   ]
  },
  {
   "cell_type": "markdown",
   "metadata": {
    "toc-hr-collapsed": false
   },
   "source": [
    "# Unfolding\n",
    "\n",
    "Conventionally, unfolding is considered to be a process of element mapping from a tensor to a matrix. In other words, it arranges the mode-$n$ fibers of a tensor to be the matrix columns. Thus, the mode-$n$ unfolding is denoted as:\n",
    "\n",
    "$$\\mathbf{\\underline{A}} \\xrightarrow{n} \\mathbf{A}_{(n)}$$\n",
    "\n",
    "Thus, this operations requires to specify a mode along which a tensor will be unfolded. For a third order tensor, a visual representation of such operation is as following\n",
    "\n",
    "<img src=\"./imgs/unfolding.png\" alt=\"Drawing\" style=\"width: 600px;\"/>\n",
    "\n",
    "In `hottbox` this functionality is available through the corresponding methods of the `Tensor` object, for instance:"
   ]
  },
  {
   "cell_type": "code",
   "execution_count": 16,
   "metadata": {},
   "outputs": [
    {
     "name": "stdout",
     "output_type": "stream",
     "text": [
      "This tensor is of order 2 and consists of 24 elements.\n",
      "Sizes and names of its modes are (2, 12) and ['mode-0', 'mode-1_mode-2'] respectively.\n"
     ]
    },
    {
     "data": {
      "text/plain": [
       "array([[ 0,  1,  2,  3,  4,  5,  6,  7,  8,  9, 10, 11],\n",
       "       [12, 13, 14, 15, 16, 17, 18, 19, 20, 21, 22, 23]])"
      ]
     },
     "execution_count": 16,
     "metadata": {},
     "output_type": "execute_result"
    }
   ],
   "source": [
    "# Create 3-d array of data\n",
    "array_3d = np.arange(24).reshape((2, 3, 4))\n",
    "\n",
    "# Create tensor\n",
    "tensor = Tensor(array_3d)\n",
    "\n",
    "# Unfolding of a tensor\n",
    "tensor.unfold(mode=0)\n",
    "\n",
    "# Result preview\n",
    "print(tensor)\n",
    "tensor.data"
   ]
  },
  {
   "cell_type": "markdown",
   "metadata": {
    "toc-hr-collapsed": true
   },
   "source": [
    "## **Assigment 3**\n",
    "\n",
    "1. Create a tensor, $\\mathbf{\\underline{A}}$, of order 4, in such a way that its version unfolded along the second mode would have sizes `(5,72)`, that is $\\mathbf{A}_{(n)} \\in  \\mathbb{R}^{5 \\times 72}$. Validate your results by displaying the unfolded tensor."
   ]
  },
  {
   "cell_type": "markdown",
   "metadata": {},
   "source": [
    "### Solution : Part 1"
   ]
  },
  {
   "cell_type": "code",
   "execution_count": 17,
   "metadata": {},
   "outputs": [
    {
     "data": {
      "text/plain": [
       "This tensor is of order 4 and consists of 360 elements.\n",
       "Sizes and names of its modes are (2, 5, 6, 6) and ['mode-0', 'mode-1', 'mode-2', 'mode-3'] respectively."
      ]
     },
     "execution_count": 17,
     "metadata": {},
     "output_type": "execute_result"
    }
   ],
   "source": [
    "# Create a tensor\n",
    "A = Tensor(np.arange(360).reshape((2,5,6,6)))\n",
    "A"
   ]
  },
  {
   "cell_type": "code",
   "execution_count": 18,
   "metadata": {},
   "outputs": [
    {
     "name": "stdout",
     "output_type": "stream",
     "text": [
      "This tensor is of order 2 and consists of 360 elements.\n",
      "Sizes and names of its modes are (5, 72) and ['mode-1', 'mode-0_mode-2_mode-3'] respectively.\n"
     ]
    },
    {
     "data": {
      "text/plain": [
       "array([[  0,   1,   2,   3,   4,   5,   6,   7,   8,   9,  10,  11,  12,\n",
       "         13,  14,  15,  16,  17,  18,  19,  20,  21,  22,  23,  24,  25,\n",
       "         26,  27,  28,  29,  30,  31,  32,  33,  34,  35, 180, 181, 182,\n",
       "        183, 184, 185, 186, 187, 188, 189, 190, 191, 192, 193, 194, 195,\n",
       "        196, 197, 198, 199, 200, 201, 202, 203, 204, 205, 206, 207, 208,\n",
       "        209, 210, 211, 212, 213, 214, 215],\n",
       "       [ 36,  37,  38,  39,  40,  41,  42,  43,  44,  45,  46,  47,  48,\n",
       "         49,  50,  51,  52,  53,  54,  55,  56,  57,  58,  59,  60,  61,\n",
       "         62,  63,  64,  65,  66,  67,  68,  69,  70,  71, 216, 217, 218,\n",
       "        219, 220, 221, 222, 223, 224, 225, 226, 227, 228, 229, 230, 231,\n",
       "        232, 233, 234, 235, 236, 237, 238, 239, 240, 241, 242, 243, 244,\n",
       "        245, 246, 247, 248, 249, 250, 251],\n",
       "       [ 72,  73,  74,  75,  76,  77,  78,  79,  80,  81,  82,  83,  84,\n",
       "         85,  86,  87,  88,  89,  90,  91,  92,  93,  94,  95,  96,  97,\n",
       "         98,  99, 100, 101, 102, 103, 104, 105, 106, 107, 252, 253, 254,\n",
       "        255, 256, 257, 258, 259, 260, 261, 262, 263, 264, 265, 266, 267,\n",
       "        268, 269, 270, 271, 272, 273, 274, 275, 276, 277, 278, 279, 280,\n",
       "        281, 282, 283, 284, 285, 286, 287],\n",
       "       [108, 109, 110, 111, 112, 113, 114, 115, 116, 117, 118, 119, 120,\n",
       "        121, 122, 123, 124, 125, 126, 127, 128, 129, 130, 131, 132, 133,\n",
       "        134, 135, 136, 137, 138, 139, 140, 141, 142, 143, 288, 289, 290,\n",
       "        291, 292, 293, 294, 295, 296, 297, 298, 299, 300, 301, 302, 303,\n",
       "        304, 305, 306, 307, 308, 309, 310, 311, 312, 313, 314, 315, 316,\n",
       "        317, 318, 319, 320, 321, 322, 323],\n",
       "       [144, 145, 146, 147, 148, 149, 150, 151, 152, 153, 154, 155, 156,\n",
       "        157, 158, 159, 160, 161, 162, 163, 164, 165, 166, 167, 168, 169,\n",
       "        170, 171, 172, 173, 174, 175, 176, 177, 178, 179, 324, 325, 326,\n",
       "        327, 328, 329, 330, 331, 332, 333, 334, 335, 336, 337, 338, 339,\n",
       "        340, 341, 342, 343, 344, 345, 346, 347, 348, 349, 350, 351, 352,\n",
       "        353, 354, 355, 356, 357, 358, 359]])"
      ]
     },
     "execution_count": 18,
     "metadata": {},
     "output_type": "execute_result"
    }
   ],
   "source": [
    "# Display unfolded version\n",
    "A.unfold(mode=1)\n",
    "print(A)\n",
    "A.data"
   ]
  },
  {
   "cell_type": "markdown",
   "metadata": {
    "toc-hr-collapsed": false
   },
   "source": [
    "# Mode-n product \n",
    "<img src=\"./imgs/mode_n_product.png\" alt=\"Drawing\" style=\"width: 600px;\"/>\n",
    "\n",
    "The mode-$n$ product is a multiplication of a tensor  by a matrix along the $n^{th}$ mode of a tensor. This essentially means that each mode-$n$ fiber should be multiplied by this matrix. Mathematically, this can be expressed as:\n",
    "\n",
    "$$\\mathbf{\\underline{X}} \\times_n \\mathbf{A} = \\mathbf{\\underline{Y}} \\quad \\Leftrightarrow  \\quad \\mathbf{Y}_{(n)} = \\mathbf{A} \\mathbf{X}_{(n)}  $$"
   ]
  },
  {
   "cell_type": "code",
   "execution_count": 19,
   "metadata": {},
   "outputs": [
    {
     "name": "stdout",
     "output_type": "stream",
     "text": [
      "This tensor is of order 3 and consists of 40 elements.\n",
      "Sizes and names of its modes are (2, 5, 4) and ['mode-0', 'mode-1', 'mode-2'] respectively.\n"
     ]
    },
    {
     "data": {
      "text/plain": [
       "array([[ 20,  23,  26,  29,  56,  59,  62,  65],\n",
       "       [ 56,  68,  80,  92, 200, 212, 224, 236],\n",
       "       [ 92, 113, 134, 155, 344, 365, 386, 407],\n",
       "       [128, 158, 188, 218, 488, 518, 548, 578],\n",
       "       [164, 203, 242, 281, 632, 671, 710, 749]])"
      ]
     },
     "execution_count": 19,
     "metadata": {},
     "output_type": "execute_result"
    }
   ],
   "source": [
    "I, J, K = 2, 3, 4\n",
    "J_new = 5\n",
    "\n",
    "# Create tensor\n",
    "array_3d = np.arange(I * J * K).reshape(I, J ,K)\n",
    "X = Tensor(array_3d)\n",
    "\n",
    "# Create matrix\n",
    "A = np.arange(J_new * J).reshape(J_new, J)\n",
    "\n",
    "# Performs Mode-n product \n",
    "Y = X.mode_n_product(A, mode=1, inplace=False)\n",
    "\n",
    "# Preview of resulting tensor\n",
    "print(Y)\n",
    "\n",
    "# Preview of its unfolded version\n",
    "Y.unfold(mode=1, inplace=False).data"
   ]
  },
  {
   "cell_type": "markdown",
   "metadata": {
    "toc-hr-collapsed": true
   },
   "source": [
    "## **Assignment 4**\n",
    "\n",
    "1. Perform the mode-$n$ product of a 3-rd order tensor, $\\mathbf{\\underline{X}}$, with a matrix, $\\mathbf{A} \\in  \\mathbb{R}^{5 \\times 4}$, provided that the resulting tensor, $\\mathbf{\\underline{Y}}$, consists of `100` elements. Validate your results. \n",
    "\n",
    "> **Note:** You are encouraged to experiment with the optional parameter `inplace` and to investigate its effect on the result."
   ]
  },
  {
   "cell_type": "markdown",
   "metadata": {},
   "source": [
    "### Solution: Part 1"
   ]
  },
  {
   "cell_type": "code",
   "execution_count": 20,
   "metadata": {},
   "outputs": [],
   "source": [
    "# Create original tensor \n",
    "X = Tensor(np.arange(80).reshape((10,2,4)))"
   ]
  },
  {
   "cell_type": "code",
   "execution_count": 21,
   "metadata": {},
   "outputs": [],
   "source": [
    "# Create matrix\n",
    "A = np.arange(20).reshape((5,4))"
   ]
  },
  {
   "cell_type": "code",
   "execution_count": 22,
   "metadata": {},
   "outputs": [
    {
     "data": {
      "text/plain": [
       "This tensor is of order 3 and consists of 100 elements.\n",
       "Sizes and names of its modes are (10, 2, 5) and ['mode-0', 'mode-1', 'mode-2'] respectively."
      ]
     },
     "execution_count": 22,
     "metadata": {},
     "output_type": "execute_result"
    }
   ],
   "source": [
    "# Perform mode-n product \n",
    "Y = X.mode_n_product(A, mode=2, inplace=False)\n",
    "Y"
   ]
  },
  {
   "cell_type": "code",
   "execution_count": 23,
   "metadata": {},
   "outputs": [
    {
     "name": "stdout",
     "output_type": "stream",
     "text": [
      "[ 14  38  62  86 110]\n",
      "[ 14  38  62  86 110]\n"
     ]
    }
   ],
   "source": [
    "# Validate equivalence between the left and right hand side\n",
    "print(Y.data[0,0,:]) # values in Y\n",
    "print(np.matmul(X.data[0,0,:],A.T))  # result from matrix multiplication"
   ]
  },
  {
   "cell_type": "markdown",
   "metadata": {},
   "source": [
    "# Properties of mode-n product\n",
    "\n",
    "1. For distinct modes in a series of multiplications, the order of the multiplication is irrelevent: \n",
    "\n",
    "    $$\\mathbf{\\underline{X}} \\times_n \\mathbf{A} \\times_m \\mathbf{B} = \\mathbf{\\underline{X}} \\times_m \\mathbf{B} \\times_n \\mathbf{A} \\quad (m \\neq n)$$\n",
    "\n",
    "1. However, this does not hold if the modes are the same :\n",
    "\n",
    "    $$\\mathbf{\\underline{X}} \\times_n \\mathbf{A} \\times_n \\mathbf{B} = \\mathbf{\\underline{X}} \\times_n (\\mathbf{B}\\mathbf{A})$$"
   ]
  },
  {
   "cell_type": "markdown",
   "metadata": {
    "toc-hr-collapsed": true
   },
   "source": [
    "## **Assignment 5**\n",
    "\n",
    "1. Validate both of the above properties empirically \n",
    "2. Prove the second property analytically\n",
    "\n",
    "> **Note:** Be aware of consequences of the optional parameter `inplace` (its default value is set to `True`)."
   ]
  },
  {
   "cell_type": "markdown",
   "metadata": {},
   "source": [
    "### Solution: Part 1"
   ]
  },
  {
   "cell_type": "code",
   "execution_count": 24,
   "metadata": {},
   "outputs": [],
   "source": [
    "# Create tensor\n",
    "X = Tensor(np.arange(24).reshape((2,3,4)))"
   ]
  },
  {
   "cell_type": "code",
   "execution_count": 25,
   "metadata": {},
   "outputs": [],
   "source": [
    "# Create matrices\n",
    "A = np.arange(12).reshape((4,3))\n",
    "B = np.arange(12).reshape((3,4))"
   ]
  },
  {
   "cell_type": "code",
   "execution_count": 26,
   "metadata": {},
   "outputs": [
    {
     "data": {
      "text/plain": [
       "True"
      ]
     },
     "execution_count": 26,
     "metadata": {},
     "output_type": "execute_result"
    }
   ],
   "source": [
    "# Validate property 1\n",
    "Y1 = X.mode_n_product(A, mode=1, inplace=False).mode_n_product(B, mode=2, inplace=False)\n",
    "Y2 = X.mode_n_product(B, mode=2, inplace=False).mode_n_product(A, mode=1, inplace=False)\n",
    "np.array_equal(Y1.data,Y2.data)"
   ]
  },
  {
   "cell_type": "code",
   "execution_count": 27,
   "metadata": {},
   "outputs": [
    {
     "data": {
      "text/plain": [
       "True"
      ]
     },
     "execution_count": 27,
     "metadata": {},
     "output_type": "execute_result"
    }
   ],
   "source": [
    "# Validate property 2\n",
    "Y3 = X.mode_n_product(A,mode=1, inplace=False).mode_n_product(B,mode=1, inplace=False)\n",
    "Y4 = X.mode_n_product(np.matmul(B,A), mode=1, inplace=False)\n",
    "\n",
    "np.array_equal(Y3.data,Y4.data)"
   ]
  },
  {
   "cell_type": "markdown",
   "metadata": {
    "toc-hr-collapsed": true
   },
   "source": [
    "### Solution: Part 2\n",
    "\n",
    "Use [LaTeX syntax](https://stackoverflow.com/questions/13208286/how-to-write-latex-in-ipython-notebook) for analytical deriviations for the second property below.\n"
   ]
  },
  {
   "cell_type": "code",
   "execution_count": 28,
   "metadata": {},
   "outputs": [
    {
     "data": {
      "text/latex": [
       "In mode-n product a series of multiplications is commutative only if modes are different. If modes are the same the below equation holds:\n",
       "    \n",
       "        $$\\underline{\\mathbf{X}} \\times_n \\mathbf{A} \\times_n \\mathbf{B} = \\underline{\\mathbf{X}} \\times_n (\\mathbf{BA})$$\n",
       "\n",
       "To prove this we have to consider the mode-n product as the matrix multiplications that it entails, that is considering the tensor as a set of stacked matrices.\n",
       "\n",
       "If we ignore $\\mathbf{B}$ for now, the tensor will be modified in one of its dimensions, in which the matrix operation below occurs:\n",
       "    \n",
       "        $$\\mathbf{A} \\times \\mathbf{X}_i = \\mathbf{\\hat{X}}_i$$\n",
       "        \n",
       "where $\\mathbf{X}_i$ is a slice of the tensor, and then:\n",
       "    \n",
       "        $$\\mathbf{B} \\times \\mathbf{\\hat{X}}_i = \\mathbf{\\bar{X}}_i$$\n",
       "        \n",
       "We can observe then how if the $n$ mode is selected of size 3 and the sizes of $\\mathbf{A,B}$ are $(4\\times3),(6\\times4)$, the end size of the tensor dimension is 6, $3\\rightarrow 4\\rightarrow 6$.\n",
       "We thus would have the equivalent of multiplying by a matrix of $(6\\times3)$. The mode-n product is effectively performing a multiplication from the front of the matrices and so the equivalent matrix multiplication would be:\n",
       "    \n",
       "        $$\\mathbf{B} \\times \\mathbf{A} \\times \\mathbf{X}_i = \\mathbf{\\bar{X}}_i$$\n",
       "        \n",
       "Which is equivalent to the first equation where $\\mathbf{B} \\times \\mathbf{A} = \\mathbf{BA}$. The concept is easy to understand if we realise the operation is simply matrix multiplications and that since for the sequence of multiplications $\\mathbf{B}$ is after $\\mathbf{A}$, $\\mathbf{B}$ is performing the multiplication on the results of the multplication of $\\mathbf{AX$_i.\n",
       "\n"
      ],
      "text/plain": [
       "<IPython.core.display.Latex object>"
      ]
     },
     "metadata": {},
     "output_type": "display_data"
    }
   ],
   "source": [
    "%%latex\n",
    "In mode-n product a series of multiplications is commutative only if modes are different. If modes are the same the below equation holds:\n",
    "    \n",
    "        $$\\underline{\\mathbf{X}} \\times_n \\mathbf{A} \\times_n \\mathbf{B} = \\underline{\\mathbf{X}} \\times_n (\\mathbf{BA})$$\n",
    "\n",
    "To prove this we have to consider the mode-n product as the matrix multiplications that it entails, that is considering the tensor as a set of stacked matrices.\n",
    "\n",
    "If we ignore $\\mathbf{B}$ for now, the tensor will be modified in one of its dimensions, in which the matrix operation below occurs:\n",
    "    \n",
    "        $$\\mathbf{A} \\times \\mathbf{X}_i = \\mathbf{\\hat{X}}_i$$\n",
    "        \n",
    "where $\\mathbf{X}_i$ is a slice of the tensor, and then:\n",
    "    \n",
    "        $$\\mathbf{B} \\times \\mathbf{\\hat{X}}_i = \\mathbf{\\bar{X}}_i$$\n",
    "        \n",
    "We can observe then how if the $n$ mode is selected of size 3 and the sizes of $\\mathbf{A,B}$ are $(4\\times3),(6\\times4)$, the end size of the tensor dimension is 6, $3\\rightarrow 4\\rightarrow 6$.\n",
    "We thus would have the equivalent of multiplying by a matrix of $(6\\times3)$. The mode-n product is effectively performing a multiplication from the front of the matrices and so the equivalent matrix multiplication would be:\n",
    "    \n",
    "        $$\\mathbf{B} \\times \\mathbf{A} \\times \\mathbf{X}_i = \\mathbf{\\bar{X}}_i$$\n",
    "        \n",
    "Which is equivalent to the first equation where $\\mathbf{B} \\times \\mathbf{A} = \\mathbf{BA}$. The concept is easy to understand if we realise the operation is simply matrix multiplications and that since for the sequence of multiplications $\\mathbf{B}$ is after $\\mathbf{A}$, $\\mathbf{B}$ is performing the multiplication on the results of the multplication of $\\mathbf{AX$_i.\n",
    "\n"
   ]
  }
 ],
 "metadata": {
  "kernelspec": {
   "display_name": "dpm-coursework",
   "language": "python",
   "name": "dpm-coursework"
  },
  "language_info": {
   "codemirror_mode": {
    "name": "ipython",
    "version": 3
   },
   "file_extension": ".py",
   "mimetype": "text/x-python",
   "name": "python",
   "nbconvert_exporter": "python",
   "pygments_lexer": "ipython3",
   "version": "3.7.2"
  },
  "toc-autonumbering": false,
  "toc-showcode": false,
  "toc-showmarkdowntxt": false
 },
 "nbformat": 4,
 "nbformat_minor": 2
}
